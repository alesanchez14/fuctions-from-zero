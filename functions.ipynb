{
  "nbformat": 4,
  "nbformat_minor": 0,
  "metadata": {
    "colab": {
      "provenance": [],
      "authorship_tag": "ABX9TyOgyReqvh3iOJjCSS3PsSpH",
      "include_colab_link": true
    },
    "kernelspec": {
      "name": "python3",
      "display_name": "Python 3"
    },
    "language_info": {
      "name": "python"
    }
  },
  "cells": [
    {
      "cell_type": "markdown",
      "metadata": {
        "id": "view-in-github",
        "colab_type": "text"
      },
      "source": [
        "<a href=\"https://colab.research.google.com/github/alesanchez14/fuctions-from-zero/blob/main/functions.ipynb\" target=\"_parent\"><img src=\"https://colab.research.google.com/assets/colab-badge.svg\" alt=\"Open In Colab\"/></a>"
      ]
    },
    {
      "cell_type": "markdown",
      "source": [
        "Styles of Functions"
      ],
      "metadata": {
        "id": "opqoQQDYnLBs"
      }
    },
    {
      "cell_type": "code",
      "source": [
        "def simple():pass\n",
        "\n",
        "\n",
        "def simple2():\n",
        "    print(\"simple\")"
      ],
      "metadata": {
        "id": "z4dKy_utm6SF"
      },
      "execution_count": 2,
      "outputs": []
    },
    {
      "cell_type": "code",
      "source": [
        "simple2()\n",
        "\n",
        "simple"
      ],
      "metadata": {
        "colab": {
          "base_uri": "https://localhost:8080/"
        },
        "id": "8bZ9xgmSnEhh",
        "outputId": "8d23cf13-3b91-4daa-8dd6-84171c727bc8"
      },
      "execution_count": 3,
      "outputs": [
        {
          "output_type": "stream",
          "name": "stdout",
          "text": [
            "simple\n"
          ]
        },
        {
          "output_type": "execute_result",
          "data": {
            "text/plain": [
              "<function __main__.simple()>"
            ]
          },
          "metadata": {},
          "execution_count": 3
        }
      ]
    },
    {
      "cell_type": "markdown",
      "source": [
        "Most useful"
      ],
      "metadata": {
        "id": "3u2nM9IIm-DN"
      }
    },
    {
      "cell_type": "code",
      "source": [
        "def my_worker(fruit):\n",
        "    statement = f\"My favorite meal is chicken and {fruit}\"\n",
        "    meals = {\"dinner\": statement}\n",
        "    return meals"
      ],
      "metadata": {
        "id": "OjIP7jJcm_8y"
      },
      "execution_count": 4,
      "outputs": []
    },
    {
      "cell_type": "code",
      "source": [
        "\n",
        "meal = my_worker(\"Apple\")"
      ],
      "metadata": {
        "id": "oMo5Jcr7nVzn"
      },
      "execution_count": 7,
      "outputs": []
    },
    {
      "cell_type": "code",
      "source": [
        "print(meal)"
      ],
      "metadata": {
        "colab": {
          "base_uri": "https://localhost:8080/"
        },
        "id": "YREAHihPngKe",
        "outputId": "e8017ac5-dcf6-4a04-c3c2-5081c6f4488d"
      },
      "execution_count": 8,
      "outputs": [
        {
          "output_type": "stream",
          "name": "stdout",
          "text": [
            "{'dinner': 'My favorite meal is chicken and Apple'}\n"
          ]
        }
      ]
    },
    {
      "cell_type": "code",
      "source": [
        "\n",
        "type(meal)"
      ],
      "metadata": {
        "colab": {
          "base_uri": "https://localhost:8080/"
        },
        "id": "Ow7BAS2enYrx",
        "outputId": "06fdf7ab-a163-4405-f05d-fe0353e6b27f"
      },
      "execution_count": 6,
      "outputs": [
        {
          "output_type": "execute_result",
          "data": {
            "text/plain": [
              "dict"
            ]
          },
          "metadata": {},
          "execution_count": 6
        }
      ]
    },
    {
      "cell_type": "code",
      "source": [
        "def human(food):\n",
        "    consume = food[\"dinner\"]\n",
        "    return consume"
      ],
      "metadata": {
        "id": "kwI-ZqY2nno2"
      },
      "execution_count": 10,
      "outputs": []
    },
    {
      "cell_type": "code",
      "source": [
        "\n",
        "my_meal=human(meal)\n",
        "print(f\"I want my meal.  It will be: {my_meal}\")"
      ],
      "metadata": {
        "colab": {
          "base_uri": "https://localhost:8080/"
        },
        "id": "JCP8Gpi1nvbF",
        "outputId": "f86d24c1-873f-4987-ec5b-ee01d10707f2"
      },
      "execution_count": 11,
      "outputs": [
        {
          "output_type": "stream",
          "name": "stdout",
          "text": [
            "I want my meal.  It will be: My favorite meal is chicken and Apple\n"
          ]
        }
      ]
    }
  ]
}